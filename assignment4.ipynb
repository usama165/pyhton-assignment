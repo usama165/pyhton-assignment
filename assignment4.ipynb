{
 "cells": [
  {
   "cell_type": "code",
   "execution_count": 1,
   "metadata": {},
   "outputs": [
    {
     "name": "stdout",
     "output_type": "stream",
     "text": [
      "{'first_name': 'usama', 'last_name': 'ali ', 'age': 22, 'city': 'Karachi'}\n",
      "{'first_name': 'usama', 'last_name': 'ali ', 'age': 22, 'city': 'Karachi', 'Qualification': 'BC in Computer Engineering'}\n",
      "{'first_name': 'usama', 'last_name': 'ali ', 'age': 22, 'city': 'Karachi'}\n"
     ]
    }
   ],
   "source": [
    "names= {\n",
    "    'first_name':'usama',\n",
    "    'last_name': 'ali ',\n",
    "    'age': 22,\n",
    "    'city': 'Karachi',\n",
    "    }\n",
    "print (names)\n",
    "names['Qualification']='BC in Computer Engineering'  \n",
    "print (names)\n",
    "del names['Qualification']\n",
    "print (names)"
   ]
  },
  {
   "cell_type": "code",
   "execution_count": 2,
   "metadata": {},
   "outputs": [
    {
     "name": "stdout",
     "output_type": "stream",
     "text": [
      "\n",
      "Karachi is in Pakistan.\n",
      "  It has a population of about 15 M.\n",
      "Fifth Most Populous City Proper In The World\n",
      "\n",
      "New York is in Usa.\n",
      "  It has a population of about 8.23 M.\n",
      "The First American Chess Tournament Was Held In New York\n",
      "\n",
      "Istanbul is in Turkey.\n",
      "  It has a population of about 15.7 M.\n",
      "Istanbul Is One Of The Biggest Cities In The World\n"
     ]
    }
   ],
   "source": [
    "cities = {'Karachi': {'country': 'Pakistan','population':\"15 M\",'fact': 'fifth most populous city proper in the world', },\n",
    "          'New York': {'country': 'USA','population': \"8.23 M\" ,'fact': 'The First American Chess Tournament Was Held In New York', },  \n",
    "          'Istanbul': {'country': 'Turkey', 'population': \"15.7 M\" ,'fact':'Istanbul is one of the biggest cities in the world',},}\n",
    "\n",
    "for city, city_info in cities.items():\n",
    "    country = city_info['country'].title()\n",
    "    population = city_info['population']\n",
    "    fact = city_info['fact'].title()\n",
    "\n",
    "    print(\"\\n\" + city.title() + \" is in \" + country + \".\")\n",
    "    print(\"  It has a population of about \" + str(population) + \".\")\n",
    "    print(fact)"
   ]
  },
  {
   "cell_type": "code",
   "execution_count": 3,
   "metadata": {},
   "outputs": [
    {
     "name": "stdout",
     "output_type": "stream",
     "text": [
      "Enter your age?\n",
      "Enter 'quit' when you are finished. 13\n",
      "invalid input\n",
      "Enter your age?\n",
      "Enter 'quit' when you are finished. 22\n",
      "  Your ticket is $15.\n",
      "Enter your age?\n",
      "Enter 'quit' when you are finished. quit\n"
     ]
    }
   ],
   "source": [
    "abc = \"Enter your age?\\nEnter 'quit' when you are finished. \"\n",
    "\n",
    "while True:\n",
    "    age = input(abc)\n",
    "    if age == 'quit':\n",
    "        break\n",
    "    age = int(age)\n",
    "\n",
    "    if age < 3:\n",
    "        print(\"  You get in free!\")\n",
    "    elif age < 13:\n",
    "        print(\"  Your ticket is $10.\")\n",
    "    elif age> 13:\n",
    "        print(\"  Your ticket is $15.\")\n",
    "    else:\n",
    "        print(\"invalid input\")"
   ]
  },
  {
   "cell_type": "code",
   "execution_count": 4,
   "metadata": {},
   "outputs": [
    {
     "name": "stdout",
     "output_type": "stream",
     "text": [
      "The Abstract Wild is one of my favorite books.\n"
     ]
    }
   ],
   "source": [
    "def fav_book(title):\n",
    "    \"\"\"Display a message about someone's favorite book.\"\"\"\n",
    "    print(title + \" is one of my favorite books.\")\n",
    "\n",
    "fav_book('The Abstract Wild')"
   ]
  },
  {
   "cell_type": "code",
   "execution_count": 5,
   "metadata": {},
   "outputs": [
    {
     "name": "stdout",
     "output_type": "stream",
     "text": [
      "WELCOME HERE TO CHECK YOUR LUCK\n",
      "Enter One Number which is between 1 to 30 22\n",
      "Your input is wrong and the random number was 9\n",
      "Enter One Number which is between 1 to 30 12\n",
      "Your input is wrong and the random number was 30\n",
      "Enter One Number which is between 1 to 30 2\n",
      "Your input is wrong and the random number was 19\n",
      "Your total score is 0\n"
     ]
    }
   ],
   "source": [
    "import random\n",
    "print(\"WELCOME HERE TO CHECK YOUR LUCK\")\n",
    "total_score = 0\n",
    "Flag = False\n",
    "for x in range(0,3):\n",
    "    number = random.randint(1, 30)\n",
    "    user_number =input(\"Enter One Number which is between 1 to 30 \")\n",
    "    if  str(user_number) == str(number):\n",
    "        total_score += 10\n",
    "        Flag = True\n",
    "    if(Flag):\n",
    "        print(\"Random Number is generated \" + str(number) + \" and Your number is \"+ str(user_number))\n",
    "        \n",
    "    else:\n",
    "        print(\"Your input is wrong and the random number was \" + str(number))\n",
    "print(\"Your total score is \" + str(total_score))"
   ]
  },
  {
   "cell_type": "code",
   "execution_count": null,
   "metadata": {},
   "outputs": [],
   "source": []
  }
 ],
 "metadata": {
  "kernelspec": {
   "display_name": "Python 3",
   "language": "python",
   "name": "python3"
  },
  "language_info": {
   "codemirror_mode": {
    "name": "ipython",
    "version": 3
   },
   "file_extension": ".py",
   "mimetype": "text/x-python",
   "name": "python",
   "nbconvert_exporter": "python",
   "pygments_lexer": "ipython3",
   "version": "3.7.3"
  }
 },
 "nbformat": 4,
 "nbformat_minor": 2
}
