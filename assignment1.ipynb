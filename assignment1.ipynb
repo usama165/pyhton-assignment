{
 "cells": [
  {
   "cell_type": "code",
   "execution_count": 1,
   "metadata": {},
   "outputs": [
    {
     "name": "stdout",
     "output_type": "stream",
     "text": [
      "Twinkle, twinkle, little star,\n",
      "      How I wonder what you are!\n",
      "            Up above the world so high,\n",
      "            Like a diamond in the sky.\n",
      "Twinkle, twinkle, little star,\n",
      "      How I wonder what you are!\n"
     ]
    }
   ],
   "source": [
    "word1 = \"Twinkle, twinkle, little star,\"\n",
    "word2= \"How I wonder what you are!\"\n",
    "word3= \"Up above the world so high,\"\n",
    "word4 = \"Like a diamond in the sky.\"\n",
    "\n",
    "\n",
    "print(word1)\n",
    "print(\"      \"+word2)\n",
    "print(\"            \"+word3)\n",
    "print(\"            \"+word4)\n",
    "print(word1)\n",
    "print(\"      \"+word2)"
   ]
  },
  {
   "cell_type": "code",
   "execution_count": 2,
   "metadata": {},
   "outputs": [
    {
     "name": "stdout",
     "output_type": "stream",
     "text": [
      "3.7.3 (default, Mar 27 2019, 17:13:21) [MSC v.1915 64 bit (AMD64)]\n"
     ]
    }
   ],
   "source": [
    "import sys\n",
    "syst = sys.version\n",
    "print(syst)"
   ]
  },
  {
   "cell_type": "code",
   "execution_count": 3,
   "metadata": {},
   "outputs": [
    {
     "name": "stdout",
     "output_type": "stream",
     "text": [
      "Time : 05-11-2019 03:01:25\n"
     ]
    }
   ],
   "source": [
    "import datetime\n",
    "now = datetime.datetime.now()\n",
    "print(\"Time :\",now.strftime(\"%d-%m-%Y %H:%M:%S\"))"
   ]
  },
  {
   "cell_type": "code",
   "execution_count": 4,
   "metadata": {},
   "outputs": [
    {
     "name": "stdout",
     "output_type": "stream",
     "text": [
      "enter the radius5\n",
      "78.5\n"
     ]
    }
   ],
   "source": [
    "import math\n",
    "a = int(input(\"enter the radius\"))\n",
    "pi=3.14\n",
    "area= float(pi*(a**2))\n",
    "print(area)"
   ]
  },
  {
   "cell_type": "code",
   "execution_count": 5,
   "metadata": {},
   "outputs": [
    {
     "name": "stdout",
     "output_type": "stream",
     "text": [
      "First Name: Usama ali\n",
      "Last Name: Shaikh\n",
      "Shaikh  Usama ali\n"
     ]
    }
   ],
   "source": [
    "nam1 = str(input(\"First Name: \"))\n",
    "nam2 = str(input(\"Last Name: \"))\n",
    "res= nam2+nam1\n",
    "print(\"\"+nam2+\"  \"+nam1)"
   ]
  },
  {
   "cell_type": "code",
   "execution_count": 6,
   "metadata": {},
   "outputs": [
    {
     "name": "stdout",
     "output_type": "stream",
     "text": [
      "Enter first Number: 20\n",
      "Enter Second Number: 30\n",
      "Addition is : 50\n"
     ]
    }
   ],
   "source": [
    "num1= int(input(\"Enter first Number: \"))\n",
    "num2= int(input(\"Enter Second Number: \"))\n",
    "add= num1+num2\n",
    "print(\"Addition is :\",add)"
   ]
  },
  {
   "cell_type": "code",
   "execution_count": null,
   "metadata": {},
   "outputs": [],
   "source": []
  }
 ],
 "metadata": {
  "kernelspec": {
   "display_name": "Python 3",
   "language": "python",
   "name": "python3"
  },
  "language_info": {
   "codemirror_mode": {
    "name": "ipython",
    "version": 3
   },
   "file_extension": ".py",
   "mimetype": "text/x-python",
   "name": "python",
   "nbconvert_exporter": "python",
   "pygments_lexer": "ipython3",
   "version": "3.7.3"
  }
 },
 "nbformat": 4,
 "nbformat_minor": 2
}
