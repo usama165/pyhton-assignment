{
 "cells": [
  {
   "cell_type": "code",
   "execution_count": 7,
   "metadata": {},
   "outputs": [
    {
     "name": "stdout",
     "output_type": "stream",
     "text": [
      "Enter 1 number :12\n",
      "Enter 2 number :12\n",
      "Answer = 24\n"
     ]
    }
   ],
   "source": [
    "def add(a,b):\n",
    "    return a+b\n",
    "\n",
    "def sub(a,b):\n",
    "    return a-b\n",
    "\n",
    "def mult(a,b):\n",
    "    return a*b\n",
    "\n",
    "def div(a,b):\n",
    "    return a//b\n",
    "\n",
    "def power(a,b):\n",
    "    return a**b\n",
    "\n",
    "a=int(input(\"Enter 1 number :\"))\n",
    "b=int(input(\"Enter 2 number :\"))\n",
    "c=add(a,b)\n",
    "print(\"Answer = \"+str(c))"
   ]
  },
  {
   "cell_type": "code",
   "execution_count": 55,
   "metadata": {},
   "outputs": [
    {
     "name": "stdout",
     "output_type": "stream",
     "text": [
      "Check for all value\n",
      "numeric value not found\n",
      "Numeric Value Found\n",
      "numeric value not found\n",
      "numeric value not found\n"
     ]
    }
   ],
   "source": [
    "#QUESTION #2\n",
    "lst=[\"wajahat\",11,\"ali\",\"as\"]\n",
    "print(\"Check for all value\")\n",
    "for value in lst:\n",
    "    if type(value)==int or type(value)==float:\n",
    "        print(f\"Numeric Value Found\")\n",
    "    else:\n",
    "        print(\"numeric value not found\")"
   ]
  },
  {
   "cell_type": "code",
   "execution_count": 34,
   "metadata": {},
   "outputs": [
    {
     "name": "stdout",
     "output_type": "stream",
     "text": [
      "{'key1': 13, 'key2': 23, 'key3': 12}\n",
      "{'key1': 13, 'key2': 23, 'key3': 12, 'key4': 12, 'key5': 23}\n"
     ]
    }
   ],
   "source": [
    "#QUESTION #3\n",
    "abc={\"key1\" : 13,\"key2\" : 23,\"key3\":12}\n",
    "print(abc)\n",
    "abc[\"key4\"] = 12\n",
    "abc[\"key5\"] = 23\n",
    "print(abc)"
   ]
  },
  {
   "cell_type": "code",
   "execution_count": 36,
   "metadata": {},
   "outputs": [
    {
     "name": "stdout",
     "output_type": "stream",
     "text": [
      "83\n"
     ]
    }
   ],
   "source": [
    "#QUESTION #4\n",
    "print(sum(abc.values()))"
   ]
  },
  {
   "cell_type": "code",
   "execution_count": 68,
   "metadata": {},
   "outputs": [
    {
     "name": "stdout",
     "output_type": "stream",
     "text": [
      "This is the duplicated Numbers in above List\n"
     ]
    },
    {
     "data": {
      "text/plain": [
       "{1, 5}"
      ]
     },
     "execution_count": 68,
     "metadata": {},
     "output_type": "execute_result"
    }
   ],
   "source": [
    "#QUETSION #5\n",
    "l = [1,2,3,4,5,5,6,1]\n",
    "print(\"This is the duplicated Numbers in above List\")\n",
    "set([x for x in l if l.count(x) > 1])\n"
   ]
  },
  {
   "cell_type": "code",
   "execution_count": 59,
   "metadata": {},
   "outputs": [
    {
     "name": "stdout",
     "output_type": "stream",
     "text": [
      "key 1 Already exists\n"
     ]
    }
   ],
   "source": [
    "#QUESTION #6\n",
    "dic = { 1: \"ali\",2: \"khan\",3: \"ahmed\"}\n",
    "given_key = 1\n",
    "\n",
    "for key in dic.keys():\n",
    "    if key == given_key:\n",
    "        print(f\"key {given_key} Already exists\")"
   ]
  },
  {
   "cell_type": "code",
   "execution_count": null,
   "metadata": {},
   "outputs": [],
   "source": []
  }
 ],
 "metadata": {
  "kernelspec": {
   "display_name": "Python 3",
   "language": "python",
   "name": "python3"
  },
  "language_info": {
   "codemirror_mode": {
    "name": "ipython",
    "version": 3
   },
   "file_extension": ".py",
   "mimetype": "text/x-python",
   "name": "python",
   "nbconvert_exporter": "python",
   "pygments_lexer": "ipython3",
   "version": "3.7.3"
  }
 },
 "nbformat": 4,
 "nbformat_minor": 2
}
