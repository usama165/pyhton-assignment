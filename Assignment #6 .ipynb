{
 "cells": [
  {
   "cell_type": "markdown",
   "metadata": {},
   "source": [
    "## QUESTION 1.\n",
    "## Object-Oriented Programming (OOP)\n",
    ">Object-oriented programming (OOP) is a programming language model in which programs are organized around data, or objects, rather than functions and logic. An object can be defined as a data field that has unique attributes and behavior. Examples of an object can range from physical entities, such as a human being that is described by properties like name and address. In which Human is class and its functions are objects which make that class.\n",
    ">further there are artributes and behavior like ear is atribute and listening is its behavior.\n"
   ]
  },
  {
   "cell_type": "markdown",
   "metadata": {},
   "source": [
    "## QUESTION 2. Benifits of (OOP).\n",
    "\n",
    "#1.Modularity for easier troubleshooting.\n",
    "#2.Reuse of code through inheritance.\n",
    "#3.Flexibility through polymorphism.\n",
    "#4.Effective problem solving.\n",
    "\n"
   ]
  },
  {
   "cell_type": "markdown",
   "metadata": {},
   "source": [
    "## QUESTION 3. FUNTION & METHOD?\n",
    "\n",
    "Funtion : Python function is a sequence of statements that execute when called anywhere in code, given a name. \n",
    "Function allow us to do that work written in it more than one time in a single time rather than writing again and again, this way time is saved.\n",
    "They let us implement code reusability. When we talked about Python Functions, we talked about built-in and user-defined functions.\n",
    "\n",
    "Method : Python method is like a function, except it is attached to an object.\n",
    "We call a method on an object, and it possibly makes changes to that object. \n",
    "A method, then, belongs to a class. \n"
   ]
  },
  {
   "cell_type": "markdown",
   "metadata": {},
   "source": [
    "## QUESTION 4.\n",
    "\n",
    "class : A class is a special kind of object that’s used as a template for creating instances of itself. Think of it like a cookie cutter that produces cookies.\n",
    "\n",
    "Object :  An object is an entity that possesses both state (or properties or attributes) and behaviour. an object may have an attribute,  behavior and methods in a class. \n",
    "\n",
    "attribute and behavior :  attributes are then part of object which define its specific feature and behavior from its name define the work of that attribute.\n",
    "\n",
    "Exmaple is frontlights is attribute and giving glowing path is its behavior and these both are then part of object (car). which is then part of class (vehicles)."
   ]
  },
  {
   "cell_type": "code",
   "execution_count": 4,
   "metadata": {},
   "outputs": [
    {
     "name": "stdout",
     "output_type": "stream",
     "text": [
      "2010\n",
      "<__main__.car object at 0x7fdf0433e5f8>\n"
     ]
    }
   ],
   "source": [
    "#******QUESTION 5******\n",
    "\n",
    "  #class\n",
    "class car():\n",
    "    def __init__(self, name, model, engine ,speed,price ):\n",
    "        \n",
    "        ##attributes\n",
    "        self.name= name\n",
    "        self.model= model\n",
    "        self.engine= engine\n",
    "        self.speed= speed \n",
    "        self.price= price\n",
    "        \n",
    "        ##methods\n",
    "    def updateModel(newmodel):\n",
    "        self.model= newmodel\n",
    "    \n",
    "    def updateSpeed(newspeed):\n",
    "        self.speed= newspeed\n",
    "        \n",
    "    def updatePrice(newprice):\n",
    "        self.price= newprice\n",
    "        \n",
    "  ##object instance      \n",
    "car1=car('corolla','2010','1800 cc','160 km','150$')\n",
    "car2=car('corolla','2015','2500 cc','200 km','200$')\n",
    "car3=car('Civic','2012','2500 cc','200 km','200$')\n",
    "car4=car('suzuki','2011','1600 cc','150 km','150$') \n",
    "car5=car('cultus','2008','1500 cc','100 km','150$')\n",
    "\n",
    "\n",
    "\n",
    "\n",
    "print(car1.model)\n",
    "\n",
    "print(car1)\n"
   ]
  },
  {
   "cell_type": "code",
   "execution_count": null,
   "metadata": {},
   "outputs": [],
   "source": []
  }
 ],
 "metadata": {
  "kernelspec": {
   "display_name": "Python 3",
   "language": "python",
   "name": "python3"
  },
  "language_info": {
   "codemirror_mode": {
    "name": "ipython",
    "version": 3
   },
   "file_extension": ".py",
   "mimetype": "text/x-python",
   "name": "python",
   "nbconvert_exporter": "python",
   "pygments_lexer": "ipython3",
   "version": "3.6.7"
  }
 },
 "nbformat": 4,
 "nbformat_minor": 2
}
